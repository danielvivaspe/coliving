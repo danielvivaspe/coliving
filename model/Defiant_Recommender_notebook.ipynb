{
 "cells": [
  {
   "cell_type": "markdown",
   "metadata": {},
   "source": [
    "# Desafio de Tripulaciones \n",
    "03/22 Grupo 3 \n",
    "\n",
    "\n",
    "### ALGORITMO UTILIZADO:\n",
    "#### Singular Value Decomposition\n",
    "\n",
    "$$ \\underset{(n, d)}A \\approx \\underset{(n, n)}U * \\underset{(n, d)}\\Sigma * \\underset{(d, d)} V^T  $$\n",
    "\n",
    "Cualquier matriz de tamaño (n, d) se puede descomponer en producto de tres factores\n",
    "\n",
    "* En *U* de tamaño (n, n) es una matriz ortogonal que contiene los vectores singulares izquierdos de *A*.\n",
    "* En $\\Sigma$ que es una matriz diagonal (n,d), cuyos valores son los valores singulares de la matriz *A* ordenados en valor decreciente\n",
    "* En *V* que es una matriz transpuesta (d,d), cuyos valores son los vectores singulares derechos de *A*.\n",
    "\n",
    "*Ortogonal significa que multiplicando la transpuesta por si misma, se obtiene la matriz identidad*\n",
    "\n",
    "Con esto lo que se consigue es que podemos ir elminando vectores de las matrices con la información que no es fundamental, (limpiar los datos) y quedarnos con aquella información más determinante.\n",
    "\n",
    "## Aplicación práctica\n",
    "\n",
    "Lo que se hace con los motores de recomendación, es para una actividad que tu no has realizado, teniendo en cuenta tus características y las de otros usuarios. Mediante SVD nos quedamos con los usuarios que son parecidos a ti, y vemos las actividades que no has visto"
   ]
  },
  {
   "cell_type": "markdown",
   "metadata": {},
   "source": [
    "###  Cargamos librerías"
   ]
  },
  {
   "cell_type": "code",
   "execution_count": 1,
   "metadata": {},
   "outputs": [],
   "source": [
    "import numpy as np\n",
    "import pandas as pd\n",
    "from scipy.sparse import coo_matrix\n",
    "from scipy.sparse.linalg import svds\n",
    "from pandas.core.frame import DataFrame\n",
    "from pandas.io.parsers import read_csv\n",
    "from surprise import SVDpp\n",
    "from surprise import Dataset, Reader\n",
    "from surprise.model_selection import train_test_split\n",
    "from surprise import accuracy\n",
    "from collections import defaultdict"
   ]
  },
  {
   "cell_type": "markdown",
   "metadata": {},
   "source": [
    "### Cargamos los datos\n",
    "\n",
    "** Entrenamos el algoritmo con un set de películas de forma temporal, cuando los resultados de la encuesta estén listos, entrenaremos el modelo con esos datos"
   ]
  },
  {
   "cell_type": "code",
   "execution_count": 2,
   "metadata": {},
   "outputs": [],
   "source": [
    "movies = pd.read_csv(\"./data/movies.csv\")\n",
    "ratings = pd.read_csv(\"./data/ratings.csv\")\n",
    "df_movies = ratings.merge(movies, on=\"movieId\", how=\"left\")\n",
    "df_activities = ratings[ratings.columns[:-1]]"
   ]
  },
  {
   "cell_type": "code",
   "execution_count": 3,
   "metadata": {},
   "outputs": [
    {
     "data": {
      "text/plain": [
       "Index(['userId', 'movieId', 'rating'], dtype='object')"
      ]
     },
     "execution_count": 3,
     "metadata": {},
     "output_type": "execute_result"
    }
   ],
   "source": [
    "df_activities.columns"
   ]
  },
  {
   "cell_type": "markdown",
   "metadata": {},
   "source": [
    "### Preprocessing"
   ]
  },
  {
   "cell_type": "code",
   "execution_count": 4,
   "metadata": {},
   "outputs": [],
   "source": [
    "reader = Reader()\n",
    "data = Dataset.load_from_df(df_activities, reader)\n",
    "\n",
    "train, test = train_test_split(data, test_size=0.25)"
   ]
  },
  {
   "cell_type": "markdown",
   "metadata": {},
   "source": [
    "### Training and testing"
   ]
  },
  {
   "cell_type": "code",
   "execution_count": 5,
   "metadata": {},
   "outputs": [],
   "source": [
    "svd = SVDpp()\n",
    "SVD_model_for_pickle = svd.fit(train)\n",
    "preds = svd.test(test)"
   ]
  },
  {
   "cell_type": "markdown",
   "metadata": {},
   "source": [
    "### Evaluation"
   ]
  },
  {
   "cell_type": "code",
   "execution_count": 45,
   "metadata": {},
   "outputs": [
    {
     "name": "stdout",
     "output_type": "stream",
     "text": [
      "MAE:  0.6653\n",
      "RMSE: 0.8695\n"
     ]
    },
    {
     "data": {
      "text/plain": [
       "0.8694624799057272"
      ]
     },
     "execution_count": 45,
     "metadata": {},
     "output_type": "execute_result"
    }
   ],
   "source": [
    "accuracy.mae(preds)\n",
    "accuracy.rmse(preds)"
   ]
  },
  {
   "cell_type": "markdown",
   "metadata": {},
   "source": [
    "### Train all data"
   ]
  },
  {
   "cell_type": "code",
   "execution_count": 13,
   "metadata": {},
   "outputs": [],
   "source": [
    "trainfull = data.build_full_trainset()\n",
    "\n",
    "svd = SVDpp()\n",
    "SVD_model_for_pickle = svd.fit(trainfull)\n",
    "\n",
    "SVD_model_for_pickle.predict(uid=1, iid=1)"
   ]
  },
  {
   "cell_type": "code",
   "execution_count": 10,
   "metadata": {},
   "outputs": [
    {
     "data": {
      "text/plain": [
       "[5323, 3593, 1556, 1882, 2643]"
      ]
     },
     "execution_count": 10,
     "metadata": {},
     "output_type": "execute_result"
    }
   ],
   "source": [
    "userId = 1\n",
    "n_recommendations = 5\n",
    "\n",
    "item_ids = df_activities['movieId'].to_list()\n",
    "items_finished = df_activities[df_activities['userId'] == userId]['movieId']\n",
    "items_no_finished = []\n",
    "for item in item_ids:\n",
    "    if item not in items_finished:\n",
    "        items_no_finished.append(item)\n",
    "\n",
    "preds = []\n",
    "for item in items_no_finished:\n",
    "    preds.append(SVD_model_for_pickle.predict(uid=userId, iid=item))\n",
    "\n",
    "recommendations_rating = {pred[1]:pred[3] for pred in preds}\n",
    "\n",
    "order_dict = {k: v for k, v in sorted(recommendations_rating.items(), key=lambda item: item[1])}\n",
    "\n",
    "top_predictions = list(order_dict.keys())[:n_recommendations]\n",
    "top_predictions"
   ]
  },
  {
   "cell_type": "markdown",
   "metadata": {},
   "source": [
    "### Función Defiant Recommender para el DESAFIO"
   ]
  },
  {
   "cell_type": "code",
   "execution_count": 16,
   "metadata": {},
   "outputs": [],
   "source": [
    "def defiant_recommender(userId, dataframe, algorithm, n_recommendations, column_iid= None, column_uid= None):\n",
    "    \"\"\"\n",
    "    This functions will use a trained algorithm to find the n top list of recommended items for a given userID.\n",
    "\n",
    "    Parameters\n",
    "    -----------\n",
    "\n",
    "    userId (int): the user ID of the person that we want recommendations for.\n",
    "\n",
    "    dataframe (object): the DataFrame containing three columns; userID, itemID and rating.\n",
    "\n",
    "    algorithm (object): the trained algorith used to recommend items.\n",
    "\n",
    "    n_rcommendations (int): the number of items recommended.\n",
    "\n",
    "    column_iid (string): name of the column containing the item ID.\n",
    "\n",
    "    column_uid (string): name of the column containing the user ID.\n",
    "\n",
    "\n",
    "    return\n",
    "    ------\n",
    "\n",
    "    List of ID of items that an specific user will like.\n",
    "\n",
    "    \"\"\"\n",
    "    item_ids = dataframe[column_iid].to_list()\n",
    "    items_finished = dataframe[dataframe[column_uid] == userId][column_iid]\n",
    "\n",
    "    items_no_finished = []\n",
    "    for item in item_ids:\n",
    "        if item not in items_finished:\n",
    "            items_no_finished.append(item)\n",
    "\n",
    "    preds = []\n",
    "    for item in items_no_finished:\n",
    "        preds.append(SVD_model_for_pickle.predict(uid=userId, iid=item))\n",
    "\n",
    "    recommendations_rating = {pred[1]:pred[3] for pred in preds}\n",
    "\n",
    "    order_dict = {k: v for k, v in sorted(recommendations_rating.items(), key=lambda item: item[1])}\n",
    "\n",
    "    top_predictions = list(order_dict.keys())[:n_recommendations]\n",
    "    \n",
    "    return top_predictions"
   ]
  },
  {
   "cell_type": "code",
   "execution_count": 17,
   "metadata": {},
   "outputs": [
    {
     "name": "stdout",
     "output_type": "stream",
     "text": [
      "ID of the activities recommended: [5323, 3593, 1556, 1882, 2643]\n"
     ]
    }
   ],
   "source": [
    "activities_recommended = defiant_recommender(1, df_activities, SVD_model_for_pickle, 5, 'movieId', 'userId')\n",
    "print(\"ID of the activities recommended:\", activities_recommended)"
   ]
  },
  {
   "cell_type": "code",
   "execution_count": 8,
   "metadata": {},
   "outputs": [],
   "source": [
    "# Guardar el modelo\n",
    "import pickle\n",
    "\n",
    "with open('DEFIANT_RECOMMENDER.model', \"wb\") as archivo_salida:\n",
    "    pickle.dump(SVD_model_for_pickle, archivo_salida)"
   ]
  },
  {
   "cell_type": "code",
   "execution_count": 9,
   "metadata": {},
   "outputs": [
    {
     "name": "stdout",
     "output_type": "stream",
     "text": [
      "<surprise.prediction_algorithms.matrix_factorization.SVDpp object at 0x7ff5c3a14bd0>\n"
     ]
    }
   ],
   "source": [
    "# Para volver a leer el modelo\n",
    "with open('DEFIANT_RECOMMENDER.model', \"rb\") as archivo_entrada:\n",
    "    defiant_pickle = pickle.load(archivo_entrada)\n",
    "    \n",
    "print(defiant_pickle)"
   ]
  },
  {
   "cell_type": "markdown",
   "metadata": {},
   "source": [
    "### Funcion para comprobar la logica de la recomendacion\n"
   ]
  },
  {
   "cell_type": "code",
   "execution_count": 8,
   "metadata": {},
   "outputs": [],
   "source": [
    "def check_activities_user(userId, dataframe, n, column_rating= None, column_uid= None):\n",
    "    \"\"\"\n",
    "    This functions will show the n top rated items for a given userID.\n",
    "\n",
    "    Parameters\n",
    "    -----------\n",
    "\n",
    "    userId (int): the user ID of the person that we want recommendations for.\n",
    "\n",
    "    dataframe (object): the DataFrame containing three columns; userID, itemID and rating.\n",
    "\n",
    "    n (int): number of top rated items to show.\n",
    "\n",
    "    column_rating (string): name of the column containing the item rating.\n",
    "\n",
    "    column_uid (string): name of the column containing the user ID.\n",
    "\n",
    "\n",
    "    return\n",
    "    ------\n",
    "\n",
    "    A dataframe with the n top rated items by that given user.\n",
    "\n",
    "    \"\"\"\n",
    "    return dataframe[dataframe[column_uid] ==userId].sort_values(column_rating, ascending=False)[:n]"
   ]
  },
  {
   "cell_type": "code",
   "execution_count": 11,
   "metadata": {},
   "outputs": [
    {
     "name": "stdout",
     "output_type": "stream",
     "text": [
      "Top activities user likes:\n",
      "      userId  movieId  rating\n",
      "231       1     5060     5.0\n",
      "185       1     2872     5.0\n",
      "89        1     1291     5.0\n",
      "90        1     1298     5.0\n",
      "190       1     2948     5.0\n"
     ]
    }
   ],
   "source": [
    "print(f\"Top activities user likes:\\n\", check_activities_user(1, df_activities, 5, 'rating', 'userId'))"
   ]
  }
 ],
 "metadata": {
  "interpreter": {
   "hash": "aee8b7b246df8f9039afb4144a1f6fd8d2ca17a180786b69acc140d282b71a49"
  },
  "kernelspec": {
   "display_name": "Python 3.7.6 64-bit ('venv-General': conda)",
   "language": "python",
   "name": "python3"
  },
  "language_info": {
   "codemirror_mode": {
    "name": "ipython",
    "version": 3
   },
   "file_extension": ".py",
   "mimetype": "text/x-python",
   "name": "python",
   "nbconvert_exporter": "python",
   "pygments_lexer": "ipython3",
   "version": "3.7.4"
  },
  "orig_nbformat": 2
 },
 "nbformat": 4,
 "nbformat_minor": 2
}
